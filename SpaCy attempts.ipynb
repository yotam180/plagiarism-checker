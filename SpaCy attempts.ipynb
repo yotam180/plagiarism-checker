{
 "cells": [
  {
   "cell_type": "code",
   "execution_count": 75,
   "id": "1ff950ec",
   "metadata": {},
   "outputs": [],
   "source": [
    "import spacy\n",
    "\n",
    "from urllib.request import urlopen\n",
    "from bs4 import BeautifulSoup\n",
    "from collections import Counter"
   ]
  },
  {
   "cell_type": "code",
   "execution_count": 53,
   "id": "3134723b",
   "metadata": {},
   "outputs": [],
   "source": [
    "nlp = spacy.load(\"en_core_web_md\")"
   ]
  },
  {
   "cell_type": "code",
   "execution_count": 61,
   "id": "fdbcef90",
   "metadata": {},
   "outputs": [],
   "source": [
    "soup = BeautifulSoup(urlopen(\"https://en.wikipedia.org/wiki/For_the_Moment_(film)\"), 'html.parser')\n",
    "text = \".\\n\".join(x.text for x in soup.find_all(\"p\"))"
   ]
  },
  {
   "cell_type": "code",
   "execution_count": 62,
   "id": "b2034c3f",
   "metadata": {},
   "outputs": [],
   "source": [
    "doc = nlp(text)"
   ]
  },
  {
   "cell_type": "code",
   "execution_count": 63,
   "id": "8059e5ee",
   "metadata": {},
   "outputs": [],
   "source": [
    "sents = list(doc.sents)"
   ]
  },
  {
   "cell_type": "code",
   "execution_count": 73,
   "id": "997440d2",
   "metadata": {},
   "outputs": [],
   "source": [
    "counter = Counter(x.text for x in doc.ents)"
   ]
  },
  {
   "cell_type": "code",
   "execution_count": 78,
   "id": "39a46858",
   "metadata": {},
   "outputs": [],
   "source": [
    "def get_article(url):\n",
    "    soup = BeautifulSoup(urlopen(url), 'html.parser')\n",
    "    text = \".\\n\".join(x.text for x in soup.find_all(\"p\"))\n",
    "    doc = nlp(text)\n",
    "    return doc\n",
    "\n",
    "def get_nouns(doc):\n",
    "    return Counter(x.text for x in doc.ents)"
   ]
  },
  {
   "cell_type": "code",
   "execution_count": 87,
   "id": "4d568220",
   "metadata": {},
   "outputs": [],
   "source": [
    "doc = get_article(\"https://en.wikipedia.org/wiki/Advanced_Engineering_Materials\")"
   ]
  },
  {
   "cell_type": "code",
   "execution_count": 88,
   "id": "62cdb537",
   "metadata": {},
   "outputs": [
    {
     "data": {
      "text/plain": [
       "(monthly, Advanced Engineering Materials)"
      ]
     },
     "execution_count": 88,
     "metadata": {},
     "output_type": "execute_result"
    }
   ],
   "source": [
    "doc.ents"
   ]
  },
  {
   "cell_type": "code",
   "execution_count": 89,
   "id": "1d741b41",
   "metadata": {},
   "outputs": [],
   "source": [
    "sents = list(doc.sents)"
   ]
  },
  {
   "cell_type": "code",
   "execution_count": 90,
   "id": "5aa1e35b",
   "metadata": {},
   "outputs": [
    {
     "data": {
      "text/plain": [
       "[ Advanced Engineering Materials is a peer-reviewed materials science journal that publishes monthly.,\n",
       " \n",
       " Advanced Engineering Materials publishes peer-reviewed reviews, communications, and full papers, on topics centered around structural materials, such as metals, alloys, ceramics, composites, plastics etc..]"
      ]
     },
     "execution_count": 90,
     "metadata": {},
     "output_type": "execute_result"
    }
   ],
   "source": [
    "sents"
   ]
  },
  {
   "cell_type": "code",
   "execution_count": 85,
   "id": "481efffc",
   "metadata": {},
   "outputs": [
    {
     "data": {
      "text/plain": [
       "[14 June 1993, 1]"
      ]
     },
     "execution_count": 85,
     "metadata": {},
     "output_type": "execute_result"
    }
   ],
   "source": [
    "sents[1].ents"
   ]
  },
  {
   "cell_type": "code",
   "execution_count": 91,
   "id": "6dcfc64f",
   "metadata": {},
   "outputs": [
    {
     "data": {
      "text/plain": [
       " Advanced Engineering Materials is a peer-reviewed materials science journal that publishes monthly. \n",
       "Advanced Engineering Materials publishes peer-reviewed reviews, communications, and full papers, on topics centered around structural materials, such as metals, alloys, ceramics, composites, plastics etc.."
      ]
     },
     "execution_count": 91,
     "metadata": {},
     "output_type": "execute_result"
    }
   ],
   "source": [
    "doc"
   ]
  },
  {
   "cell_type": "code",
   "execution_count": null,
   "id": "b1bc8ce7",
   "metadata": {},
   "outputs": [],
   "source": []
  }
 ],
 "metadata": {
  "kernelspec": {
   "display_name": "Python (myenv)",
   "language": "python",
   "name": "myenv"
  },
  "language_info": {
   "codemirror_mode": {
    "name": "ipython",
    "version": 3
   },
   "file_extension": ".py",
   "mimetype": "text/x-python",
   "name": "python",
   "nbconvert_exporter": "python",
   "pygments_lexer": "ipython3",
   "version": "3.7.11"
  }
 },
 "nbformat": 4,
 "nbformat_minor": 5
}
